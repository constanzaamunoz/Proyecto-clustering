{
  "cells": [
    {
      "cell_type": "markdown",
      "metadata": {
        "id": "view-in-github",
        "colab_type": "text"
      },
      "source": [
        "<a href=\"https://colab.research.google.com/github/constanzaamunoz/Proyecto-clustering/blob/avance/proyecto_final_template.ipynb\" target=\"_parent\"><img src=\"https://colab.research.google.com/assets/colab-badge.svg\" alt=\"Open In Colab\"/></a>"
      ]
    },
    {
      "cell_type": "markdown",
      "id": "bdf6aeb1",
      "metadata": {
        "id": "bdf6aeb1"
      },
      "source": [
        "EAE3709 Aplicaciones de Machine Learning en Economía <br>\n",
        "Primer Semestre 2025\n",
        "\n",
        "Instituto de Economía<br>\n",
        "Pontificia Universidad Católica de Chile\n",
        "# Proyecto Final: [Insertar título]\n",
        "- Autores:\n",
        "    - Valentina Flores  [vale.flores@uc.cl]\n",
        "    - Ignacio Maluenda  [limaluenda@uc.cl]\n",
        "    - Constanza Muñoz  [camunoz52@uc.cl]\n",
        "    \n",
        "- Fecha: [28 de mayo, 2025]\n",
        "__________________________________________________________"
      ]
    },
    {
      "cell_type": "markdown",
      "id": "06cfc12b",
      "metadata": {
        "id": "06cfc12b"
      },
      "source": [
        "## Descripción del proyecto\n",
        "Breve descripción de proyecto:\n",
        "- Contexto área del conocimiento\n",
        "- Pregunta de investigación\n",
        "- Fuente de información principal"
      ]
    },
    {
      "cell_type": "markdown",
      "id": "3833515c",
      "metadata": {
        "id": "3833515c"
      },
      "source": [
        "## Contenido\n",
        "1. [Pre-procesamiento](#seccion1)\n",
        "2. [Análisis Exploratorio de Datos (EDA](#seccion2)\n",
        "3. [Feature Engineering](#seccion3)\n",
        "4. [Entrenamiento](#seccion4)\n",
        "5. [Evaluación](#seccion5)\n",
        "__________________________________________________________"
      ]
    },
    {
      "cell_type": "markdown",
      "id": "b25ecf69",
      "metadata": {
        "id": "b25ecf69"
      },
      "source": [
        "## 1. Pre-procesamiento <a name=\"seccion1\"></a>\n",
        "Incluir en esta sección:\n",
        "- Importación de librerías principales\n",
        "- Carga del data frame\n",
        "- Integración con otros sets de datos (si aplica)\n",
        "- Descripción inicial de las columnas:\n",
        "    - tipo de datos\n",
        "    - evaluar presencia de missings y outliers\n",
        "- Construcción de la variable objetivo o target (si aplica)"
      ]
    },
    {
      "cell_type": "markdown",
      "source": [
        "La base de datos utilizada proviene del OECD Regional Well-Being Index que incluye información de más de 400 regiones pertenecientes a países miembros de la OCDE. Cada observación representa una región identificada por el país, el nombre de la región. La base contiene 11 indicadores normalizados entre 0 y 10 que miden dimensiones clave del bienestar objetivo, además de una medida subjetiva de bienestar general calculada por la organización.\n",
        "\n",
        "Los indicadores incluidos son:\n",
        "\n",
        "* Education: Nivel educativo promedio, medido como la proporción de adultos con al menos educación secundaria.\n",
        "\n",
        "* Jobs: Indicador del mercado laboral, que considera tasas de empleo y desempleo.\n",
        "\n",
        "* Income: Ingreso disponible per cápita ajustado por paridad de poder de compra.\n",
        "\n",
        "* Safety: Nivel de seguridad, aproximado por la tasa de homicidios.\n",
        "\n",
        "* Health: Esperanza de vida al nacer, como proxy del estado de salud.\n",
        "\n",
        "* Environment: Calidad del aire medida por concentración de material particulado fino.\n",
        "\n",
        "* Civic engagement: Participación electoral como medida de compromiso cívico.\n",
        "\n",
        "* Accessiblity to services: Porcentaje de hogares con acceso a internet de banda ancha.\n",
        "\n",
        "* Housing: Indicador de condiciones de vivienda.\n",
        "\n",
        "* Community: Nivel de apoyo social percibido.\n",
        "\n",
        "* Life satisfaction: Medida subjetiva de satisfacción con la vida.\n",
        "\n",
        "\n",
        "\n",
        "Estas variables buscan representar múltiples dimensiones del bienestar de forma comparable entre regiones."
      ],
      "metadata": {
        "id": "014wgXRFOvmN"
      },
      "id": "014wgXRFOvmN"
    },
    {
      "cell_type": "code",
      "execution_count": null,
      "id": "b8ba12e9",
      "metadata": {
        "id": "b8ba12e9"
      },
      "outputs": [],
      "source": [
        "\n"
      ]
    },
    {
      "cell_type": "markdown",
      "id": "d936565f",
      "metadata": {
        "id": "d936565f"
      },
      "source": [
        "## 2. Análisis Exploratorio de Datos <a name=\"seccion2\"></a>\n",
        "Incluir en esta sección:\n",
        "- Análisis descriptivo de cada atributo y la variable objetivo\n",
        "    - Distribución variables contínuas\n",
        "    - Conteo de presencia de cada estado en variables categóricas\n",
        "    - Evaluar potencial predictivo de atributos sobre target:\n",
        "        - Matriz de correlación\n",
        "        - Distribuciones por clase\n",
        "- Decisiones de imputación de missings y depuración de outliers"
      ]
    },
    {
      "cell_type": "code",
      "execution_count": null,
      "id": "7a0e53d1",
      "metadata": {
        "id": "7a0e53d1"
      },
      "outputs": [],
      "source": []
    },
    {
      "cell_type": "markdown",
      "id": "3145cfa5",
      "metadata": {
        "id": "3145cfa5"
      },
      "source": [
        "## 3. Feature Engineering <a name=\"seccion3\"></a>\n",
        "Incluir en esta sección:\n",
        "- Transformaciones necesarias tanto de atributos como target para su ingesta por parte de algoritmos ML:\n",
        "    - Estandarización y escalado\n",
        "    - Bucketization\n",
        "    - One-hot encoding\n",
        "    - Técnicas de reducción de dimensionalidad"
      ]
    },
    {
      "cell_type": "code",
      "execution_count": null,
      "id": "9a2778d0",
      "metadata": {
        "id": "9a2778d0"
      },
      "outputs": [],
      "source": [
        "# Inicie cada celda con un comentario"
      ]
    },
    {
      "cell_type": "markdown",
      "id": "75d65f4e",
      "metadata": {
        "id": "75d65f4e"
      },
      "source": [
        "## 4. Entrenamiento <a name=\"seccion4\"></a>\n",
        "Incluir en esta sección:\n",
        "- Train/test split\n",
        "- Balanceo de clases (si aplica)\n",
        "- Definición de la(s) métrica(s) de perfomance que se utilizará(n)\n",
        "- Grid search\n",
        "- Entrenamiento de modelos"
      ]
    },
    {
      "cell_type": "code",
      "execution_count": null,
      "id": "7bf370ab",
      "metadata": {
        "id": "7bf370ab"
      },
      "outputs": [],
      "source": [
        "# Inicie cada celda con un comentario"
      ]
    },
    {
      "cell_type": "markdown",
      "id": "bb740fec",
      "metadata": {
        "id": "bb740fec"
      },
      "source": [
        "## 5. Evaluación <a name=\"seccion5\"></a>\n",
        "Incluir en esta sección:\n",
        "- Métricas de performance de los mejores modelos encontrados a partir del grid search\n",
        "- Tiempos de cómputo\n",
        "- Matriz de confusión (si aplica)"
      ]
    },
    {
      "cell_type": "code",
      "execution_count": null,
      "id": "6daf2f36",
      "metadata": {
        "id": "6daf2f36"
      },
      "outputs": [],
      "source": [
        "# Inicie cada celda con un comentario"
      ]
    },
    {
      "cell_type": "markdown",
      "source": [
        "## 6. Explicabilidad e interpretabilidad <a name=\"seccion6\"></a>\n",
        "Incluir en esta sección:\n",
        "- Importancia de los atributos\n",
        "- Aplicación de métodos como SHAP values o LIME"
      ],
      "metadata": {
        "id": "GXZDRSWv-9CR"
      },
      "id": "GXZDRSWv-9CR"
    },
    {
      "cell_type": "code",
      "source": [
        "# Inicie cada celda con un comentario"
      ],
      "metadata": {
        "id": "IUPPyqfB_Jkl"
      },
      "id": "IUPPyqfB_Jkl",
      "execution_count": null,
      "outputs": []
    }
  ],
  "metadata": {
    "kernelspec": {
      "display_name": "Python 3 (ipykernel)",
      "language": "python",
      "name": "python3"
    },
    "language_info": {
      "codemirror_mode": {
        "name": "ipython",
        "version": 3
      },
      "file_extension": ".py",
      "mimetype": "text/x-python",
      "name": "python",
      "nbconvert_exporter": "python",
      "pygments_lexer": "ipython3",
      "version": "3.9.7"
    },
    "colab": {
      "provenance": [],
      "include_colab_link": true
    }
  },
  "nbformat": 4,
  "nbformat_minor": 5
}