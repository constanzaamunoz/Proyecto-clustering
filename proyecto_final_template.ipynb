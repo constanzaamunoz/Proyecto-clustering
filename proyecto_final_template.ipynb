{
  "cells": [
    {
      "cell_type": "markdown",
      "metadata": {
        "id": "view-in-github",
        "colab_type": "text"
      },
      "source": [
        "<a href=\"https://colab.research.google.com/github/vcfq/Proyecto-clustering/blob/avance/proyecto_final_template.ipynb\" target=\"_parent\"><img src=\"https://colab.research.google.com/assets/colab-badge.svg\" alt=\"Open In Colab\"/></a>"
      ]
    },
    {
      "cell_type": "markdown",
      "id": "bdf6aeb1",
      "metadata": {
        "id": "bdf6aeb1"
      },
      "source": [
        "EAE3709 Aplicaciones de Machine Learning en Economía <br>\n",
        "Primer Semestre 2025\n",
        "\n",
        "Instituto de Economía<br>\n",
        "Pontificia Universidad Católica de Chile\n",
        "# Proyecto Final: [Insertar título]\n",
        "- Autores:\n",
        "    - Valentina Flores  [vale.flores@uc.cl]\n",
        "    - Ignacio Maluenda  [limaluenda@uc.cl]\n",
        "    - Constanza Muñoz  [camunoz52@uc.cl]\n",
        "    \n",
        "- Fecha: [28 de mayo, 2025]\n",
        "__________________________________________________________"
      ]
    },
    {
      "cell_type": "markdown",
      "id": "06cfc12b",
      "metadata": {
        "id": "06cfc12b"
      },
      "source": [
        "## Descripción del proyecto\n",
        "Breve descripción de proyecto:\n",
        "- Contexto área del conocimiento\n",
        "- Pregunta de investigación\n",
        "- Fuente de información principal"
      ]
    },
    {
      "cell_type": "markdown",
      "id": "3833515c",
      "metadata": {
        "id": "3833515c"
      },
      "source": [
        "## Contenido\n",
        "1. [Pre-procesamiento](#seccion1)\n",
        "2. [Análisis Exploratorio de Datos (EDA](#seccion2)\n",
        "3. [Feature Engineering](#seccion3)\n",
        "4. [Entrenamiento](#seccion4)\n",
        "5. [Evaluación](#seccion5)\n",
        "__________________________________________________________"
      ]
    },
    {
      "cell_type": "markdown",
      "id": "b25ecf69",
      "metadata": {
        "id": "b25ecf69"
      },
      "source": [
        "## 1. Pre-procesamiento <a name=\"seccion1\"></a>\n",
        "Incluir en esta sección:\n",
        "- Importación de librerías principales\n",
        "- Carga del data frame\n",
        "- Integración con otros sets de datos (si aplica)\n",
        "- Descripción inicial de las columnas:\n",
        "    - tipo de datos\n",
        "    - evaluar presencia de missings y outliers\n",
        "- Construcción de la variable objetivo o target (si aplica)"
      ]
    },
    {
      "cell_type": "markdown",
      "source": [
        "La base de datos utilizada proviene del OECD Regional Well-Being Index que incluye información de más de 400 regiones pertenecientes a países miembros de la OCDE. Cada observación representa una región identificada por el país, el nombre de la región. La base contiene 11 indicadores normalizados entre 0 y 10 que miden dimensiones clave del bienestar objetivo, además de una medida subjetiva de bienestar general calculada por la organización.\n",
        "\n",
        "Los indicadores incluidos son:\n",
        "\n",
        "* Education: Nivel educativo promedio, medido como la proporción de adultos con al menos educación secundaria.\n",
        "\n",
        "* Jobs: Indicador del mercado laboral, que considera tasas de empleo y desempleo.\n",
        "\n",
        "* Income: Ingreso disponible per cápita ajustado por paridad de poder de compra.\n",
        "\n",
        "* Safety: Nivel de seguridad, aproximado por la tasa de homicidios.\n",
        "\n",
        "* Health: Esperanza de vida al nacer, como proxy del estado de salud.\n",
        "\n",
        "* Environment: Calidad del aire medida por concentración de material particulado fino.\n",
        "\n",
        "* Civic engagement: Participación electoral como medida de compromiso cívico.\n",
        "\n",
        "* Accessiblity to services: Porcentaje de hogares con acceso a internet de banda ancha.\n",
        "\n",
        "* Housing: Indicador de condiciones de vivienda.\n",
        "\n",
        "* Community: Nivel de apoyo social percibido.\n",
        "\n",
        "* Life satisfaction: Medida subjetiva de satisfacción con la vida.\n",
        "\n",
        "\n",
        "\n",
        "Estas variables buscan representar múltiples dimensiones del bienestar de forma comparable entre regiones."
      ],
      "metadata": {
        "id": "014wgXRFOvmN"
      },
      "id": "014wgXRFOvmN"
    },
    {
      "cell_type": "code",
      "execution_count": 2,
      "id": "b8ba12e9",
      "metadata": {
        "id": "b8ba12e9",
        "outputId": "306e7382-0eb9-40b3-9652-27713df3f0f8",
        "colab": {
          "base_uri": "https://localhost:8080/",
          "height": 970
        }
      },
      "outputs": [
        {
          "output_type": "display_data",
          "data": {
            "text/plain": [
              "<IPython.core.display.HTML object>"
            ],
            "text/html": [
              "\n",
              "     <input type=\"file\" id=\"files-33278bcc-63a6-4701-8d32-0f045cf4e54c\" name=\"files[]\" multiple disabled\n",
              "        style=\"border:none\" />\n",
              "     <output id=\"result-33278bcc-63a6-4701-8d32-0f045cf4e54c\">\n",
              "      Upload widget is only available when the cell has been executed in the\n",
              "      current browser session. Please rerun this cell to enable.\n",
              "      </output>\n",
              "      <script>// Copyright 2017 Google LLC\n",
              "//\n",
              "// Licensed under the Apache License, Version 2.0 (the \"License\");\n",
              "// you may not use this file except in compliance with the License.\n",
              "// You may obtain a copy of the License at\n",
              "//\n",
              "//      http://www.apache.org/licenses/LICENSE-2.0\n",
              "//\n",
              "// Unless required by applicable law or agreed to in writing, software\n",
              "// distributed under the License is distributed on an \"AS IS\" BASIS,\n",
              "// WITHOUT WARRANTIES OR CONDITIONS OF ANY KIND, either express or implied.\n",
              "// See the License for the specific language governing permissions and\n",
              "// limitations under the License.\n",
              "\n",
              "/**\n",
              " * @fileoverview Helpers for google.colab Python module.\n",
              " */\n",
              "(function(scope) {\n",
              "function span(text, styleAttributes = {}) {\n",
              "  const element = document.createElement('span');\n",
              "  element.textContent = text;\n",
              "  for (const key of Object.keys(styleAttributes)) {\n",
              "    element.style[key] = styleAttributes[key];\n",
              "  }\n",
              "  return element;\n",
              "}\n",
              "\n",
              "// Max number of bytes which will be uploaded at a time.\n",
              "const MAX_PAYLOAD_SIZE = 100 * 1024;\n",
              "\n",
              "function _uploadFiles(inputId, outputId) {\n",
              "  const steps = uploadFilesStep(inputId, outputId);\n",
              "  const outputElement = document.getElementById(outputId);\n",
              "  // Cache steps on the outputElement to make it available for the next call\n",
              "  // to uploadFilesContinue from Python.\n",
              "  outputElement.steps = steps;\n",
              "\n",
              "  return _uploadFilesContinue(outputId);\n",
              "}\n",
              "\n",
              "// This is roughly an async generator (not supported in the browser yet),\n",
              "// where there are multiple asynchronous steps and the Python side is going\n",
              "// to poll for completion of each step.\n",
              "// This uses a Promise to block the python side on completion of each step,\n",
              "// then passes the result of the previous step as the input to the next step.\n",
              "function _uploadFilesContinue(outputId) {\n",
              "  const outputElement = document.getElementById(outputId);\n",
              "  const steps = outputElement.steps;\n",
              "\n",
              "  const next = steps.next(outputElement.lastPromiseValue);\n",
              "  return Promise.resolve(next.value.promise).then((value) => {\n",
              "    // Cache the last promise value to make it available to the next\n",
              "    // step of the generator.\n",
              "    outputElement.lastPromiseValue = value;\n",
              "    return next.value.response;\n",
              "  });\n",
              "}\n",
              "\n",
              "/**\n",
              " * Generator function which is called between each async step of the upload\n",
              " * process.\n",
              " * @param {string} inputId Element ID of the input file picker element.\n",
              " * @param {string} outputId Element ID of the output display.\n",
              " * @return {!Iterable<!Object>} Iterable of next steps.\n",
              " */\n",
              "function* uploadFilesStep(inputId, outputId) {\n",
              "  const inputElement = document.getElementById(inputId);\n",
              "  inputElement.disabled = false;\n",
              "\n",
              "  const outputElement = document.getElementById(outputId);\n",
              "  outputElement.innerHTML = '';\n",
              "\n",
              "  const pickedPromise = new Promise((resolve) => {\n",
              "    inputElement.addEventListener('change', (e) => {\n",
              "      resolve(e.target.files);\n",
              "    });\n",
              "  });\n",
              "\n",
              "  const cancel = document.createElement('button');\n",
              "  inputElement.parentElement.appendChild(cancel);\n",
              "  cancel.textContent = 'Cancel upload';\n",
              "  const cancelPromise = new Promise((resolve) => {\n",
              "    cancel.onclick = () => {\n",
              "      resolve(null);\n",
              "    };\n",
              "  });\n",
              "\n",
              "  // Wait for the user to pick the files.\n",
              "  const files = yield {\n",
              "    promise: Promise.race([pickedPromise, cancelPromise]),\n",
              "    response: {\n",
              "      action: 'starting',\n",
              "    }\n",
              "  };\n",
              "\n",
              "  cancel.remove();\n",
              "\n",
              "  // Disable the input element since further picks are not allowed.\n",
              "  inputElement.disabled = true;\n",
              "\n",
              "  if (!files) {\n",
              "    return {\n",
              "      response: {\n",
              "        action: 'complete',\n",
              "      }\n",
              "    };\n",
              "  }\n",
              "\n",
              "  for (const file of files) {\n",
              "    const li = document.createElement('li');\n",
              "    li.append(span(file.name, {fontWeight: 'bold'}));\n",
              "    li.append(span(\n",
              "        `(${file.type || 'n/a'}) - ${file.size} bytes, ` +\n",
              "        `last modified: ${\n",
              "            file.lastModifiedDate ? file.lastModifiedDate.toLocaleDateString() :\n",
              "                                    'n/a'} - `));\n",
              "    const percent = span('0% done');\n",
              "    li.appendChild(percent);\n",
              "\n",
              "    outputElement.appendChild(li);\n",
              "\n",
              "    const fileDataPromise = new Promise((resolve) => {\n",
              "      const reader = new FileReader();\n",
              "      reader.onload = (e) => {\n",
              "        resolve(e.target.result);\n",
              "      };\n",
              "      reader.readAsArrayBuffer(file);\n",
              "    });\n",
              "    // Wait for the data to be ready.\n",
              "    let fileData = yield {\n",
              "      promise: fileDataPromise,\n",
              "      response: {\n",
              "        action: 'continue',\n",
              "      }\n",
              "    };\n",
              "\n",
              "    // Use a chunked sending to avoid message size limits. See b/62115660.\n",
              "    let position = 0;\n",
              "    do {\n",
              "      const length = Math.min(fileData.byteLength - position, MAX_PAYLOAD_SIZE);\n",
              "      const chunk = new Uint8Array(fileData, position, length);\n",
              "      position += length;\n",
              "\n",
              "      const base64 = btoa(String.fromCharCode.apply(null, chunk));\n",
              "      yield {\n",
              "        response: {\n",
              "          action: 'append',\n",
              "          file: file.name,\n",
              "          data: base64,\n",
              "        },\n",
              "      };\n",
              "\n",
              "      let percentDone = fileData.byteLength === 0 ?\n",
              "          100 :\n",
              "          Math.round((position / fileData.byteLength) * 100);\n",
              "      percent.textContent = `${percentDone}% done`;\n",
              "\n",
              "    } while (position < fileData.byteLength);\n",
              "  }\n",
              "\n",
              "  // All done.\n",
              "  yield {\n",
              "    response: {\n",
              "      action: 'complete',\n",
              "    }\n",
              "  };\n",
              "}\n",
              "\n",
              "scope.google = scope.google || {};\n",
              "scope.google.colab = scope.google.colab || {};\n",
              "scope.google.colab._files = {\n",
              "  _uploadFiles,\n",
              "  _uploadFilesContinue,\n",
              "};\n",
              "})(self);\n",
              "</script> "
            ]
          },
          "metadata": {}
        },
        {
          "output_type": "stream",
          "name": "stdout",
          "text": [
            "Saving dataset.xlsx to dataset (1).xlsx\n"
          ]
        },
        {
          "output_type": "stream",
          "name": "stderr",
          "text": [
            "<ipython-input-2-8f1ef9731666>:13: FutureWarning: \n",
            "\n",
            "Passing `palette` without assigning `hue` is deprecated and will be removed in v0.14.0. Assign the `y` variable to `hue` and set `legend=False` for the same effect.\n",
            "\n",
            "  sns.boxplot(data=df_long, x='Valor', y='Variable', orient='h', palette=\"Set2\")\n"
          ]
        },
        {
          "output_type": "display_data",
          "data": {
            "text/plain": [
              "<Figure size 1200x800 with 1 Axes>"
            ],
            "image/png": "[encoded data removed]"
          },
          "metadata": {}
        }
      ],
      "source": [
        "from google.colab import files\n",
        "uploaded = files.upload()\n",
        "import pandas as pd\n",
        "df = pd.read_excel(\"dataset.xlsx\", sheet_name=\"score_by_region\")\n",
        "df.head()\n",
        "\n",
        "import matplotlib.pyplot as plt\n",
        "import seaborn as sns\n",
        "\n",
        "df_numeric = df.select_dtypes(include='number')\n",
        "df_long = df_numeric.melt(var_name='Variable', value_name='Valor')\n",
        "plt.figure(figsize=(12, 8))\n",
        "sns.boxplot(data=df_long, x='Valor', y='Variable', orient='h', palette=\"Set2\")\n",
        "plt.title('Boxplots por variable numérica (Score by Region)')\n",
        "plt.xlabel('Valor')\n",
        "plt.ylabel('Variable')\n",
        "plt.grid(True)\n",
        "plt.tight_layout()\n",
        "plt.show()"
      ]
    },
    {
      "cell_type": "markdown",
      "id": "d936565f",
      "metadata": {
        "id": "d936565f"
      },
      "source": [
        "## 2. Análisis Exploratorio de Datos <a name=\"seccion2\"></a>\n",
        "Incluir en esta sección:\n",
        "- Análisis descriptivo de cada atributo y la variable objetivo\n",
        "    - Distribución variables contínuas\n",
        "    - Conteo de presencia de cada estado en variables categóricas\n",
        "    - Evaluar potencial predictivo de atributos sobre target:\n",
        "        - Matriz de correlación\n",
        "        - Distribuciones por clase\n",
        "- Decisiones de imputación de missings y depuración de outliers"
      ]
    },
    {
      "cell_type": "code",
      "execution_count": null,
      "id": "7a0e53d1",
      "metadata": {
        "id": "7a0e53d1"
      },
      "outputs": [],
      "source": []
    },
    {
      "cell_type": "markdown",
      "id": "3145cfa5",
      "metadata": {
        "id": "3145cfa5"
      },
      "source": [
        "## 3. Feature Engineering <a name=\"seccion3\"></a>\n",
        "Incluir en esta sección:\n",
        "- Transformaciones necesarias tanto de atributos como target para su ingesta por parte de algoritmos ML:\n",
        "    - Estandarización y escalado\n",
        "    - Bucketization\n",
        "    - One-hot encoding\n",
        "    - Técnicas de reducción de dimensionalidad"
      ]
    },
    {
      "cell_type": "code",
      "execution_count": null,
      "id": "9a2778d0",
      "metadata": {
        "id": "9a2778d0"
      },
      "outputs": [],
      "source": [
        "# Inicie cada celda con un comentario"
      ]
    },
    {
      "cell_type": "markdown",
      "id": "75d65f4e",
      "metadata": {
        "id": "75d65f4e"
      },
      "source": [
        "## 4. Entrenamiento <a name=\"seccion4\"></a>\n",
        "Incluir en esta sección:\n",
        "- Train/test split\n",
        "- Balanceo de clases (si aplica)\n",
        "- Definición de la(s) métrica(s) de perfomance que se utilizará(n)\n",
        "- Grid search\n",
        "- Entrenamiento de modelos"
      ]
    },
    {
      "cell_type": "code",
      "execution_count": null,
      "id": "7bf370ab",
      "metadata": {
        "id": "7bf370ab"
      },
      "outputs": [],
      "source": [
        "# Inicie cada celda con un comentario"
      ]
    },
    {
      "cell_type": "markdown",
      "id": "bb740fec",
      "metadata": {
        "id": "bb740fec"
      },
      "source": [
        "## 5. Evaluación <a name=\"seccion5\"></a>\n",
        "Incluir en esta sección:\n",
        "- Métricas de performance de los mejores modelos encontrados a partir del grid search\n",
        "- Tiempos de cómputo\n",
        "- Matriz de confusión (si aplica)"
      ]
    },
    {
      "cell_type": "code",
      "execution_count": null,
      "id": "6daf2f36",
      "metadata": {
        "id": "6daf2f36"
      },
      "outputs": [],
      "source": [
        "# Inicie cada celda con un comentario"
      ]
    },
    {
      "cell_type": "markdown",
      "source": [
        "## 6. Explicabilidad e interpretabilidad <a name=\"seccion6\"></a>\n",
        "Incluir en esta sección:\n",
        "- Importancia de los atributos\n",
        "- Aplicación de métodos como SHAP values o LIME"
      ],
      "metadata": {
        "id": "GXZDRSWv-9CR"
      },
      "id": "GXZDRSWv-9CR"
    },
    {
      "cell_type": "code",
      "source": [
        "# Inicie cada celda con un comentario"
      ],
      "metadata": {
        "id": "IUPPyqfB_Jkl"
      },
      "id": "IUPPyqfB_Jkl",
      "execution_count": null,
      "outputs": []
    }
  ],
  "metadata": {
    "kernelspec": {
      "display_name": "Python 3 (ipykernel)",
      "language": "python",
      "name": "python3"
    },
    "language_info": {
      "codemirror_mode": {
        "name": "ipython",
        "version": 3
      },
      "file_extension": ".py",
      "mimetype": "text/x-python",
      "name": "python",
      "nbconvert_exporter": "python",
      "pygments_lexer": "ipython3",
      "version": "3.9.7"
    },
    "colab": {
      "provenance": [],
      "include_colab_link": true
    }
  },
  "nbformat": 4,
  "nbformat_minor": 5
}